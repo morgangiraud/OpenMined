{
 "cells": [
  {
   "cell_type": "code",
   "execution_count": 1,
   "metadata": {},
   "outputs": [
    {
     "name": "stdout",
     "output_type": "stream",
     "text": [
      "model saved at: /tmp/model.proto\n"
     ]
    }
   ],
   "source": [
    "import os\n",
    "import torch\n",
    "from torch.autograd import Variable\n",
    "import torch.nn as nn\n",
    "import torch.onnx\n",
    "import onnx\n",
    "\n",
    "from google.protobuf import json_format\n",
    "\n",
    "# First we export a PyTorch model\n",
    "filename = \"model.proto\"\n",
    "fullpath = os.path.join(\"/tmp\", filename)\n",
    "\n",
    "dummy_input = Variable(torch.randn(2, 5))\n",
    "model = torch.nn.Sequential(\n",
    "          torch.nn.Linear(5, 4),\n",
    "#           torch.nn.Dropout(p=0.9),\n",
    "          torch.nn.ReLU(),\n",
    "          torch.nn.Linear(4, 3),\n",
    "#           torch.nn.Dropout(p=0.9),\n",
    "          torch.nn.ReLU(),\n",
    "          torch.nn.Linear(3, 2),\n",
    "          torch.nn.Softmax(dim=1),\n",
    "        )\n",
    "torch.onnx.export(model, dummy_input, fullpath)\n",
    "print(\"model saved at: %s\" % fullpath)\n"
   ]
  },
  {
   "cell_type": "code",
   "execution_count": 2,
   "metadata": {},
   "outputs": [
    {
     "name": "stderr",
     "output_type": "stream",
     "text": [
      "/Users/morgangiraud/.virtualenvs/openmined/lib/python3.6/site-packages/IPython/html.py:14: ShimWarning: The `IPython.html` package has been deprecated since IPython 4.0. You should import from `notebook` instead. `IPython.html.widgets` has moved to `ipywidgets`.\n",
      "  \"`IPython.html.widgets` has moved to `ipywidgets`.\", ShimWarning)\n"
     ]
    }
   ],
   "source": [
    "import syft\n",
    "import syft.nn\n",
    "import syft.onnx\n",
    "from syft import FloatTensor"
   ]
  },
  {
   "cell_type": "code",
   "execution_count": 3,
   "metadata": {},
   "outputs": [
    {
     "name": "stdout",
     "output_type": "stream",
     "text": [
      "_________________________________________________________________\n",
      "Layer (type)                 Output Shape              Param #   \n",
      "=================================================================\n",
      "linear_2 (Linear)            (None, 4)                 24\n",
      "_________________________________________________________________\n",
      "relu_3 (ReLU)                (dynamic)                 0\n",
      "_________________________________________________________________\n",
      "linear_4 (Linear)            (None, 3)                 15\n",
      "_________________________________________________________________\n",
      "relu_5 (ReLU)                (dynamic)                 0\n",
      "_________________________________________________________________\n",
      "linear_6 (Linear)            (None, 2)                 8\n",
      "_________________________________________________________________\n",
      "softmax_7 (Softmax)          (dynamic)                 0\n",
      "=================================================================\n",
      "Total params: 47\n",
      "Trainable params: 47\n",
      "Non-trainable params: 0\n",
      "_________________________________________________________________\n",
      "\n",
      "Variable containing:\n",
      " 0.3928  0.6072\n",
      " 0.3939  0.6061\n",
      "[torch.FloatTensor of size 2x2]\n",
      "\n",
      "   0.4015207  0.5984793 \n",
      "   0.412447   0.587553   \n"
     ]
    }
   ],
   "source": [
    "# Load the PyTorch model\n",
    "syft_dummy_input = FloatTensor([[1,2,3,4,5],[5,4,3,2,1]], autograd=True)\n",
    "syft_model = syft.onnx.load(fullpath)\n",
    "\n",
    "syft_model.summary()\n",
    "# Execute models\n",
    "pytorch_output = model(dummy_input)\n",
    "syft_output = syft_model(syft_dummy_input)\n",
    "print(pytorch_output)\n",
    "print(syft_output)\n"
   ]
  },
  {
   "cell_type": "code",
   "execution_count": 4,
   "metadata": {},
   "outputs": [
    {
     "name": "stdout",
     "output_type": "stream",
     "text": [
      "   0.4015207  0.5984793 \n",
      "   0.412447   0.587553   \n",
      "   0.4015207  0.5984793 \n",
      "   0.412447   0.587553   \n"
     ]
    }
   ],
   "source": [
    "# Testing consistency between serialization and deserialization in OpenMined\n",
    "\n",
    "syft.onnx.export(syft_model, syft_dummy_input, fullpath)\n",
    "new_syft_model = syft.onnx.load(fullpath)\n",
    "\n",
    "syft_output = syft_model(syft_dummy_input)\n",
    "new_syft_output = new_syft_model(syft_dummy_input)\n",
    "\n",
    "print(syft_output)\n",
    "print(new_syft_output)"
   ]
  },
  {
   "cell_type": "code",
   "execution_count": null,
   "metadata": {},
   "outputs": [],
   "source": []
  }
 ],
 "metadata": {
  "kernelspec": {
   "display_name": "Python 3",
   "language": "python",
   "name": "python3"
  },
  "language_info": {
   "codemirror_mode": {
    "name": "ipython",
    "version": 3
   },
   "file_extension": ".py",
   "mimetype": "text/x-python",
   "name": "python",
   "nbconvert_exporter": "python",
   "pygments_lexer": "ipython3",
   "version": "3.6.3"
  }
 },
 "nbformat": 4,
 "nbformat_minor": 2
}
