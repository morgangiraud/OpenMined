{
 "cells": [
  {
   "cell_type": "code",
   "execution_count": 6,
   "metadata": {},
   "outputs": [
    {
     "name": "stdout",
     "output_type": "stream",
     "text": [
      "model saved at: /tmp/model.proto\n"
     ]
    }
   ],
   "source": [
    "import os\n",
    "import torch\n",
    "from torch.autograd import Variable\n",
    "import torch.nn as nn\n",
    "import torch.onnx\n",
    "import onnx\n",
    "\n",
    "from google.protobuf import json_format\n",
    "\n",
    "# First we export a PyTorch model\n",
    "filename = \"model.proto\"\n",
    "fullpath = os.path.join(\"/tmp\", filename)\n",
    "\n",
    "dummy_input = Variable(torch.randn(2, 5))\n",
    "model = torch.nn.Sequential(\n",
    "          torch.nn.Linear(5, 4),\n",
    "#           torch.nn.Dropout(p=0.9),\n",
    "          torch.nn.ReLU(),\n",
    "          torch.nn.Linear(4, 3),\n",
    "#           torch.nn.Dropout(p=0.9),\n",
    "          torch.nn.ReLU(),\n",
    "          torch.nn.Linear(3, 2),\n",
    "          torch.nn.Softmax(dim=1),\n",
    "        )\n",
    "torch.onnx.export(model, dummy_input, fullpath)\n",
    "print(\"model saved at: %s\" % fullpath)\n"
   ]
  },
  {
   "cell_type": "code",
   "execution_count": 7,
   "metadata": {},
   "outputs": [],
   "source": [
    "import syft\n",
    "import syft.nn\n",
    "import syft.onnx\n",
    "from syft import FloatTensor"
   ]
  },
  {
   "cell_type": "code",
   "execution_count": 8,
   "metadata": {},
   "outputs": [
    {
     "name": "stdout",
     "output_type": "stream",
     "text": [
      "_________________________________________________________________\n",
      "Layer (type)                 Output Shape              Param #   \n",
      "=================================================================\n",
      "linear_28 (Linear)           (None, 4)                 24\n",
      "_________________________________________________________________\n",
      "dropout_29 (Dropout)         (dynamic)                 0\n",
      "_________________________________________________________________\n",
      "relu_30 (ReLU)               (dynamic)                 0\n",
      "_________________________________________________________________\n",
      "linear_31 (Linear)           (None, 3)                 15\n",
      "_________________________________________________________________\n",
      "dropout_32 (Dropout)         (dynamic)                 0\n",
      "_________________________________________________________________\n",
      "relu_33 (ReLU)               (dynamic)                 0\n",
      "_________________________________________________________________\n",
      "linear_34 (Linear)           (None, 2)                 8\n",
      "_________________________________________________________________\n",
      "softmax_35 (Softmax)         (dynamic)                 0\n",
      "=================================================================\n",
      "Total params: 47\n",
      "Trainable params: 47\n",
      "Non-trainable params: 0\n",
      "_________________________________________________________________\n",
      "\n",
      "None\n",
      "   0.5  0.5 \n",
      "   0.5  0.5  \n"
     ]
    }
   ],
   "source": [
    "syft_dummy_input = FloatTensor([[1,2,3,4,5],[5,4,3,2,1]], autograd=True)\n",
    "syft_model = syft.nn.Sequential([\n",
    "    syft.nn.Linear(5,4),\n",
    "    syft.nn.Dropout(rate=0.9),\n",
    "    syft.nn.ReLU(),\n",
    "    syft.nn.Linear(4, 3),\n",
    "    syft.nn.Dropout(rate=0.9),\n",
    "    syft.nn.ReLU(),\n",
    "    syft.nn.Linear(3, 2),\n",
    "    syft.nn.Softmax(dim=1)\n",
    "])\n",
    "syft_output = syft_model(syft_dummy_input)\n",
    "print(syft_model.summary())\n",
    "print(syft_output)"
   ]
  },
  {
   "cell_type": "code",
   "execution_count": 9,
   "metadata": {},
   "outputs": [
    {
     "name": "stdout",
     "output_type": "stream",
     "text": [
      "_________________________________________________________________\n",
      "Layer (type)                 Output Shape              Param #   \n",
      "=================================================================\n",
      "linear_38 (Linear)           (None, 4)                 24\n",
      "_________________________________________________________________\n",
      "relu_39 (ReLU)               (dynamic)                 0\n",
      "_________________________________________________________________\n",
      "linear_40 (Linear)           (None, 3)                 15\n",
      "_________________________________________________________________\n",
      "relu_41 (ReLU)               (dynamic)                 0\n",
      "_________________________________________________________________\n",
      "linear_42 (Linear)           (None, 2)                 8\n",
      "_________________________________________________________________\n",
      "softmax_43 (Softmax)         (dynamic)                 0\n",
      "=================================================================\n",
      "Total params: 47\n",
      "Trainable params: 47\n",
      "Non-trainable params: 0\n",
      "_________________________________________________________________\n",
      "\n",
      "Variable containing:\n",
      " 0.2740  0.7260\n",
      " 0.2737  0.7263\n",
      "[torch.FloatTensor of size 2x2]\n",
      "\n",
      "   0.2693939  0.7306061 \n",
      "   0.2652533  0.7347466  \n"
     ]
    }
   ],
   "source": [
    "# Load the PyTorch model\n",
    "syft_dummy_input = FloatTensor([[1,2,3,4,5],[5,4,3,2,1]], autograd=True)\n",
    "syft_model = syft.onnx.load(fullpath)\n",
    "\n",
    "syft_model.summary()\n",
    "# Execute models\n",
    "pytorch_output = model(dummy_input)\n",
    "syft_output = syft_model(syft_dummy_input)\n",
    "print(pytorch_output)\n",
    "print(syft_output)\n"
   ]
  },
  {
   "cell_type": "code",
   "execution_count": null,
   "metadata": {},
   "outputs": [],
   "source": []
  }
 ],
 "metadata": {
  "kernelspec": {
   "display_name": "Python 3",
   "language": "python",
   "name": "python3"
  },
  "language_info": {
   "codemirror_mode": {
    "name": "ipython",
    "version": 3
   },
   "file_extension": ".py",
   "mimetype": "text/x-python",
   "name": "python",
   "nbconvert_exporter": "python",
   "pygments_lexer": "ipython3",
   "version": "3.6.3"
  }
 },
 "nbformat": 4,
 "nbformat_minor": 2
}
